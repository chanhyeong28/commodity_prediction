{
  "cells": [
    {
      "cell_type": "markdown",
      "metadata": {},
      "source": [
        "# Baseline Demo\n",
        "\n",
        "This notebook demonstrates:\n",
        "- The IC–Sharpe metric function (daily Spearman).\n",
        "- A tiny synthetic example.\n"
      ]
    },
    {
      "cell_type": "code",
      "execution_count": null,
      "metadata": {},
      "outputs": [],
      "source": [
        "import numpy as np\n",
        "import pandas as pd\n",
        "from pathlib import Path\n",
        "\n",
        "from src.metric import daily_spearman_sharpe\n"
      ]
    },
    {
      "cell_type": "code",
      "execution_count": null,
      "metadata": {},
      "outputs": [],
      "source": [
        "# Create a small synthetic truth/prediction example across 3 dates and 6 targets\n",
        "\n",
        "dates = [0, 1, 2]\n",
        "targets = [f'target_{i}' for i in range(6)]\n",
        "\n",
        "import numpy as np\n",
        "import pandas as pd\n",
        "\n",
        "rng = np.random.default_rng(0)\n",
        "\n",
        "true_list = []\n",
        "pred_list = []\n",
        "for d in dates:\n",
        "    # True values per day\n",
        "    t = rng.normal(0, 1, size=len(targets))\n",
        "    # Predictions with some noise but mostly preserving order\n",
        "    p = np.sort(t)  # same order\n",
        "    p += rng.normal(0, 0.1, size=len(targets))\n",
        "    true_list.append(pd.DataFrame([t], index=[d], columns=targets))\n",
        "    pred_list.append(pd.DataFrame([p], index=[d], columns=targets))\n",
        "\n",
        "true_df = pd.concat(true_list)\n",
        "pred_df = pd.concat(pred_list)\n",
        "\n",
        "from src.metric import daily_spearman_sharpe\n",
        "\n",
        "score = daily_spearman_sharpe(true_df, pred_df)\n",
        "score\n"
      ]
    }
  ],
  "metadata": {
    "language_info": {
      "name": "python"
    }
  },
  "nbformat": 4,
  "nbformat_minor": 2
}
